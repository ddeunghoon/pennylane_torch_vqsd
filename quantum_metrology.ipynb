{
 "cells": [
  {
   "cell_type": "code",
   "execution_count": 12,
   "id": "61a52ec3",
   "metadata": {},
   "outputs": [],
   "source": [
    "%load_ext autoreload\n",
    "%autoreload 2"
   ]
  },
  {
   "cell_type": "markdown",
   "id": "52b93a69",
   "metadata": {},
   "source": [
    "### Pennylane Example\n",
    "\n",
    "QNode(wrapper): 양자 회로를 정의 & 실행\n",
    "* 양자 디바이스 선택\n",
    "* 회로 정의\n",
    "* 실행 & 자동미분(pytorch/jax/tf 연동 가능)\n",
    "\n",
    "Pennylane은 projective 뿐만 아니라 POVM도 지원함"
   ]
  },
  {
   "cell_type": "code",
   "execution_count": 13,
   "id": "02c2ea99",
   "metadata": {},
   "outputs": [
    {
     "name": "stdout",
     "output_type": "stream",
     "text": [
      "0.9950041652780258\n"
     ]
    }
   ],
   "source": [
    "import pennylane as qml\n",
    "from pennylane import numpy as np\n",
    "\n",
    "# 디바이스 선택 (여기서는 기본 시뮬레이터 사용)\n",
    "dev = qml.device(\"default.qubit\", wires=1)\n",
    "\n",
    "# QNode 정의\n",
    "@qml.qnode(dev)\n",
    "def circuit(theta):\n",
    "    qml.RX(theta, wires=0)           # 회전 게이트\n",
    "    return qml.expval(qml.PauliZ(0)) # Z-기댓값 반환\n",
    "\n",
    "print(circuit(0.1))  # 실행"
   ]
  },
  {
   "cell_type": "markdown",
   "id": "6880e82d",
   "metadata": {},
   "source": [
    "예시: **2원(binary) POVM**\n",
    "\n",
    "$$E_0 = \\frac{1}{2} |0\\rangle\\langle 0| + \\frac{1}{2} |1\\rangle\\langle 1|, \\quad  \n",
    "E_1 = I - E_0$$"
   ]
  },
  {
   "cell_type": "code",
   "execution_count": 14,
   "id": "c1a7eabf",
   "metadata": {},
   "outputs": [
    {
     "name": "stdout",
     "output_type": "stream",
     "text": [
      "0.4999999999999999 0.4999999999999999\n",
      "0.4999999999999999 0.4999999999999999\n",
      "0.49999999999999994 0.49999999999999994\n",
      "0.49999999999999983 0.49999999999999983\n",
      "0.49999999999999994 0.49999999999999994\n",
      "0.4999999999999999 0.4999999999999999\n",
      "0.49999999999999994 0.49999999999999994\n",
      "0.4999999999999999 0.4999999999999999\n",
      "0.4999999999999999 0.4999999999999999\n",
      "0.4999999999999999 0.4999999999999999\n",
      "0.4999999999999999 0.4999999999999999\n"
     ]
    }
   ],
   "source": [
    "import pennylane as qml\n",
    "from pennylane import numpy as np\n",
    "\n",
    "n = 2\n",
    "dev = qml.device(\"lightning.qubit\", wires=n, shots=None)\n",
    "\n",
    "prjs = [0,1]\n",
    "\n",
    "def prepare(theta):\n",
    "    # 예시: 0번 큐빗에만 상태 준비\n",
    "    qml.RY(theta, wires=0)\n",
    "\n",
    "@qml.qnode(dev)\n",
    "def povm_probs(theta):\n",
    "    prepare(theta)\n",
    "    qml.Hadamard(wires=1)\n",
    "    return [qml.expval(qml.Projector([P], wires=[1])) for P in prjs]  # [p0, p1, p2]\n",
    "\n",
    "for theta in np.linspace(0, 1, 11):\n",
    "    p0, p1 = povm_probs(theta)\n",
    "    print(p0, p1)"
   ]
  },
  {
   "cell_type": "markdown",
   "id": "6a357144",
   "metadata": {},
   "source": [
    "$$E_0 = p_0 |0\\rangle\\langle 0| + p_1 |1\\rangle\\langle 1|, \\quad  \n",
    "E_1 = I - E_0$$"
   ]
  },
  {
   "cell_type": "code",
   "execution_count": 15,
   "id": "3fb34ba0",
   "metadata": {},
   "outputs": [
    {
     "name": "stdout",
     "output_type": "stream",
     "text": [
      "Pr[E0], Pr[E1] = [0.2 0.8]\n"
     ]
    }
   ],
   "source": [
    "# 디바이스: 2큐빗(시스템 0, 보조 1). shots=None이면 확률을 정확히 계산(qml.probs)\n",
    "dev = qml.device(\"default.qubit\", wires=2, shots=None)\n",
    "\n",
    "SYSTEM, ANC = 0, 1\n",
    "\n",
    "def prepare_system(theta=0.0, phi=0.0):\n",
    "    \"\"\"단일 큐빗 순수상태 |psi> = cos(theta/2)|0> + e^{i phi} sin(theta/2)|1>\"\"\"\n",
    "    qml.RY(theta, wires=SYSTEM)\n",
    "    qml.RZ(phi, wires=SYSTEM)\n",
    "\n",
    "\n",
    "@qml.qnode(dev)\n",
    "def povm_diag_probs(p0, p1, theta=0.0, phi=0.0):\n",
    "    \"\"\"\n",
    "    E0 = p0|0><0| + p1|1><1|, E1 = I - E0 의 Naimark dilation.\n",
    "    반환: 보조(ANC) 측정 확률 [Pr(anc=0), Pr(anc=1)] = [tr(E0 rho), tr(E1 rho)]\n",
    "    \"\"\"\n",
    "    # 유효성 검사\n",
    "    if not (0.0 <= p0 <= 1.0 and 0.0 <= p1 <= 1.0):\n",
    "        raise ValueError(\"p0, p1은 [0,1] 범위여야 합니다.\")\n",
    "\n",
    "    # 시스템 상태 준비 (원하는 |psi>로 바꾸세요)\n",
    "    prepare_system(theta, phi)\n",
    "\n",
    "    # 보조는 |0>에서 시작 (기본값)\n",
    "\n",
    "    # 분기별 회전각: cos^2(theta_b) = p_b\n",
    "    th0 = np.arccos(np.sqrt(p0))\n",
    "    th1 = np.arccos(np.sqrt(p1))\n",
    "\n",
    "    # uniformly-controlled R_y(2*theta_b)를 CRY와 X-sandwich로 구현\n",
    "    # (원래 'control=|0>' 분기는 X로 뒤집어서 CRY, 다시 언컴퓨트)\n",
    "    qml.PauliX(SYSTEM)\n",
    "    qml.CRY(2 * th0, wires=[SYSTEM, ANC])  # 원래 |0> 분기\n",
    "    qml.PauliX(SYSTEM)\n",
    "    qml.CRY(2 * th1, wires=[SYSTEM, ANC])  # |1> 분기\n",
    "\n",
    "    # 보조 Z-측정 확률 = 원하는 POVM의 결과 확률\n",
    "    return qml.probs(wires=ANC)\n",
    "\n",
    "# 사용 예시 ----------------------------------------------------------\n",
    "# 시스템을 임의의 순수상태로 준비(여기선 theta=1.1, phi=0.3)\n",
    "theta_sys, phi_sys = np.pi, 0.0\n",
    "\n",
    "# 예: p0=0.9, p1=0.2  ->  E0=diag(0.9, 0.2)\n",
    "probs = povm_diag_probs(p0=0.9, p1=0.2, theta=theta_sys, phi=phi_sys)\n",
    "print(\"Pr[E0], Pr[E1] =\", probs)  # [tr(E0 rho), tr(E1 rho)]"
   ]
  },
  {
   "cell_type": "markdown",
   "id": "26743003",
   "metadata": {},
   "source": [
    "$$P_{\\rho_0} = \\eta_0 \\;\\; P_{\\rho_1} = \\eta_1$$"
   ]
  },
  {
   "cell_type": "code",
   "execution_count": 16,
   "id": "066ab6ff",
   "metadata": {},
   "outputs": [
    {
     "name": "stdout",
     "output_type": "stream",
     "text": [
      "[0.14644661 0.85355339]\n"
     ]
    }
   ],
   "source": [
    "# Ancilla 없는 구현\n",
    "dev = qml.device(\"default.qubit\", wires=1, shots=None)\n",
    "\n",
    "def helstrom_unitary(psi0, psi1, eta0=0.5, eta1=0.5):\n",
    "    # rho0, rho1\n",
    "    rho0 = np.outer(psi0, psi0.conj())\n",
    "    rho1 = np.outer(psi1, psi1.conj())\n",
    "    # Gamma = eta0*rho0 - eta1*rho1\n",
    "    Gamma = eta0 * rho0 - eta1 * rho1\n",
    "    # 고유분해: Gamma v_j = lambda_j v_j\n",
    "    vals, vecs = np.linalg.eigh(Gamma)  # vecs[:,j] = v_j (정규직교)\n",
    "    # 양의 고유값에 대응하는 벡터를 첫번째 열로 배치\n",
    "    idx = np.argsort(vals)[::-1]        # 내림차순: +가 먼저\n",
    "    V = vecs[:, idx]                    # 열: [v_plus, v_minus]\n",
    "    # 우리가 회로에서 쓸 유니터리: W^\\dagger (Z측정 기준으로 보낼 것)\n",
    "    Wdag = V.conj().T                   # W = V,  W|0>=v_plus\n",
    "    return Wdag\n",
    "\n",
    "@qml.qnode(dev)\n",
    "def helstrom_probs(psi, psi0, psi1, eta0=0.5, eta1=0.5):\n",
    "    # 입력 상태 준비 (임의의 |psi>)\n",
    "    # psi는 길이 2의 복소벡터, 정규화 가정\n",
    "    qml.StatePrep(psi, wires=0)\n",
    "    # 헬스트롬 기저로 회전: W^\\dagger\n",
    "    Wdag = helstrom_unitary(psi0, psi1, eta0, eta1)\n",
    "    qml.QubitUnitary(Wdag, wires=0)\n",
    "    # Z측정 확률: [Pr(E0), Pr(E1)]\n",
    "    return qml.probs(wires=0)\n",
    "\n",
    "# 예시 사용:\n",
    "psi0 = np.array([1,0], dtype=complex)                 # |0>\n",
    "psi1 = (np.array([1,1],complex)/np.sqrt(2))           # |+>\n",
    "psi  = (np.array([np.sqrt(0.0), np.sqrt(1.0)],complex))  # 임의 입력\n",
    "print(helstrom_probs(psi, psi0, psi1, 0.5, 0.5))  # [Pr(E0), Pr(E1)]\n",
    "# psi가 [1, 0]일 때, Pr(E0) 값이 Pr_succ 값과 일치하면 성공"
   ]
  },
  {
   "cell_type": "markdown",
   "id": "f5dd7a79",
   "metadata": {},
   "source": [
    "$$U \\;=\\;  \n",
    "\\begin{pmatrix}  \n",
    "\\sqrt{E_0} & -\\sqrt{E_1}\\\\[2pt]  \n",
    "\\sqrt{E_1} & \\ \\sqrt{E_0}  \n",
    "\\end{pmatrix}  \n",
    "\\quad(\\text{블록 }2\\times2)$$\n",
    "\n",
    "$$U\\bigl(|\\psi\\rangle\\otimes|0\\rangle_A\\bigr)  \n",
    "= \\bigl(\\sqrt{E_0}|\\psi\\rangle\\bigr)\\otimes|0\\rangle_A  \n",
    "+ \\bigl(\\sqrt{E_1}|\\psi\\rangle\\bigr)\\otimes|1\\rangle_A.$$"
   ]
  },
  {
   "cell_type": "code",
   "execution_count": 17,
   "id": "c5bab3bb",
   "metadata": {},
   "outputs": [
    {
     "name": "stdout",
     "output_type": "stream",
     "text": [
      "Helstrom bound is  0.8535533905932737\n",
      "[0.85355339 0.14644661]\n"
     ]
    }
   ],
   "source": [
    "# Ancilla 사용\n",
    "dev2 = qml.device(\"default.qubit\", wires=2, shots=None)\n",
    "S, A = 0, 1\n",
    "\n",
    "def helstrom_E0(psi0, psi1, eta0=0.5, eta1=0.5):\n",
    "    # rho0, rho1\n",
    "    rho0 = np.outer(psi0, psi0.conj())\n",
    "    rho1 = np.outer(psi1, psi1.conj())\n",
    "    # Gamma = eta0*rho0 - eta1*rho1\n",
    "    Gamma = eta0 * rho0 - eta1 * rho1\n",
    "    # 고유분해: Gamma v_j = lambda_j v_j\n",
    "    vals, vecs = np.linalg.eigh(Gamma)  # vecs[:,j] = v_j (정규직교)\n",
    "    print(\"Helstrom bound is \",0.5*(1 + np.sum(np.abs(vals))))\n",
    "    # 양의 고유값에 대응하는 벡터를 첫번째 열로 배치\n",
    "    V = vecs[:, vals >1e-12]                    # 열: [v_plus, v_minus]\n",
    "    # 우리가 회로에서 쓸 유니터리: W^\\dagger (Z측정 기준으로 보낼 것)\n",
    "    return np.outer(V, V.conj())                   # W = V,  W|0>=v_plus\n",
    "\n",
    "def naimark_U_from_E0(E0):\n",
    "    # E1 = I - E0\n",
    "    I = np.eye(2, dtype=complex)\n",
    "    E1 = I - E0\n",
    "    # 대각화로 sqrt 계산\n",
    "    def sqrt_psd(M):\n",
    "        vals, vecs = np.linalg.eigh(M)\n",
    "        vals_clipped = np.clip(vals, 0.0, None)\n",
    "        root = vecs @ np.diag(np.sqrt(vals_clipped)) @ vecs.conj().T\n",
    "        return root\n",
    "\n",
    "    R0 = sqrt_psd(E0)\n",
    "    R1 = sqrt_psd(I - E0)\n",
    "\n",
    "    # ancilla projectors (on A)\n",
    "    P00 = np.array([[1,0],[0,0]], dtype=complex)  # |0><0|\n",
    "    P11 = np.array([[0,0],[0,1]], dtype=complex)  # |1><1|\n",
    "    P01 = np.array([[0,1],[0,0]], dtype=complex)  # |0><1|\n",
    "    P10 = np.array([[0,0],[1,0]], dtype=complex)  # |1><0|\n",
    "\n",
    "    # wires=[S, A] 기준에서 U(|ψ>⊗|0>) = (√E0|ψ>)⊗|0> + (√(I−E0)|ψ>)⊗|1>\n",
    "    U = np.kron(R0, P00) + np.kron(R1, P10) - np.kron(R1, P01) + np.kron(R0, P11)\n",
    "    return U\n",
    "\n",
    "@qml.qnode(dev2)\n",
    "def povm_via_naimark_probs(psi, E0):\n",
    "    # 시스템 준비\n",
    "    qml.StatePrep(psi, wires=S)\n",
    "    # 보조 |0>\n",
    "    # 유니터리 U 적용\n",
    "    U = naimark_U_from_E0(E0)\n",
    "    qml.QubitUnitary(U, wires=[S, A])\n",
    "    # 보조 측정 확률 = [Pr(E0), Pr(E1)]\n",
    "    return qml.probs(wires=A)\n",
    "\n",
    "# 예시 사용:\n",
    "psi0 = np.array([1,0], dtype=complex)                 # |0>\n",
    "psi2 = np.array([0,1], dtype=complex)\n",
    "psi1 = (np.array([1,1],complex)/np.sqrt(2))           # |+>\n",
    "psi  = (np.array([np.sqrt(1.0), np.sqrt(0.0)],complex))  # 임의 입력\n",
    "E0 = helstrom_E0(psi0, psi1)\n",
    "print(povm_via_naimark_probs(psi0, E0))  # [Pr(E0), Pr(E1)]"
   ]
  },
  {
   "cell_type": "markdown",
   "id": "53ca1dfb",
   "metadata": {},
   "source": [
    "## 0res_tests"
   ]
  },
  {
   "cell_type": "markdown",
   "id": "78fca001",
   "metadata": {},
   "source": [
    "(a) two mixed states\n",
    "$$\\rho_1=\\cos^2\\frac{\\theta}{2}\\,|0\\rangle\\!\\langle0|+\\sin^2\\frac{\\theta}{2}\\,|1\\rangle\\!\\langle1|=\\tfrac12(I+\\cos\\theta\\,Z), \\\\\n",
    "\\rho_2=\\cos^2\\frac{\\theta}{2}\\,|+\\rangle\\!\\langle+|+\\sin^2\\frac{\\theta}{2}\\,|-\\rangle\\!\\langle-|=\\tfrac12\\big(I+\\cos\\theta\\,X\\big)$$"
   ]
  },
  {
   "cell_type": "code",
   "execution_count": 3,
   "id": "1d5b2a45",
   "metadata": {},
   "outputs": [],
   "source": [
    "import pennylane as qml\n",
    "from pennylane import numpy as np\n",
    "import torch\n",
    "from shc_povm import rdm\n",
    "\n",
    "\n",
    "dev = qml.device(\"lightning.qubit\", wires=2)\n",
    "\n",
    "def rho1(wires):\n",
    "    theta = np.pi/5\n",
    "    qml.RY(theta, wires=wires[0])\n",
    "    qml.CNOT(wires=[wires[0],wires[1]])\n",
    "\n",
    "def rho2(wires):\n",
    "    theta = np.pi/6\n",
    "    qml.RY(theta, wires=wires[0])\n",
    "    qml.CNOT(wires=[wires[0],wires[1]])\n",
    "    qml.Hadamard(wires[0])\n",
    "    qml.Hadamard(wires[1])\n",
    "\n",
    "@qml.qnode(dev)\n",
    "def classical_rho1():\n",
    "    rho1([0,1])\n",
    "    return qml.density_matrix([0,1])\n",
    "\n",
    "@qml.qnode(dev)\n",
    "def classical_rho2():\n",
    "    rho2([0,1])\n",
    "    return qml.density_matrix([0,1])\n",
    "\n",
    "init_states = torch.stack([\n",
    "    torch.tensor(classical_rho1(), dtype=torch.complex64),\n",
    "    torch.tensor(classical_rho2(), dtype=torch.complex64)\n",
    "])"
   ]
  },
  {
   "cell_type": "code",
   "execution_count": null,
   "id": "cc529e99",
   "metadata": {},
   "outputs": [],
   "source": [
    "def rho1(wires):\n",
    "    theta = 0\n",
    "    qml.RY(theta, wires=wires[0])\n",
    "    # qml.CNOT(wires=[wires[0],wires[1]])\n",
    "\n",
    "def rho2(wires):\n",
    "    theta = np.pi/3\n",
    "    qml.RY(theta, wires=wires[0])\n",
    "    # qml.CNOT(wires=[wires[0],wires[1]])"
   ]
  },
  {
   "cell_type": "code",
   "execution_count": 3,
   "id": "2765bf27",
   "metadata": {},
   "outputs": [],
   "source": [
    "def rho1(wires):\n",
    "    qml.Hadamard(wires=wires[0])\n",
    "    qml.PhaseShift(2*np.pi*0/3, wires=0)\n",
    "\n",
    "def rho2(wires):\n",
    "    qml.Hadamard(wires=wires[0])\n",
    "    qml.PhaseShift(2*np.pi*1/3, wires=0)\n",
    "\n",
    "def rho3(wires):\n",
    "    qml.Hadamard(wires=wires[0])\n",
    "    qml.PhaseShift(2*np.pi*2/3, wires=0)"
   ]
  },
  {
   "cell_type": "code",
   "execution_count": 5,
   "id": "595f1b07",
   "metadata": {},
   "outputs": [
    {
     "ename": "ValueError",
     "evalue": "RY: wrong number of wires. 2 wires given, 1 expected.",
     "output_type": "error",
     "traceback": [
      "\u001b[31m---------------------------------------------------------------------------\u001b[39m",
      "\u001b[31mValueError\u001b[39m                                Traceback (most recent call last)",
      "\u001b[36mCell\u001b[39m\u001b[36m \u001b[39m\u001b[32mIn[5]\u001b[39m\u001b[32m, line 32\u001b[39m\n\u001b[32m     30\u001b[39m povm_trainer = POVM_Torch_Trainer(n=n_outcome, a_priori_probs=a_priori_probs, optimizer=opt, model=model, criterion=criterion)\n\u001b[32m     31\u001b[39m \u001b[38;5;66;03m## Trainer.fit()\u001b[39;00m\n\u001b[32m---> \u001b[39m\u001b[32m32\u001b[39m cost_list = \u001b[43mpovm_trainer\u001b[49m\u001b[43m.\u001b[49m\u001b[43mfit\u001b[49m\u001b[43m(\u001b[49m\u001b[43mX\u001b[49m\u001b[43m=\u001b[49m\u001b[43minit_states\u001b[49m\u001b[43m)\u001b[49m\n\u001b[32m     33\u001b[39m \u001b[38;5;28mprint\u001b[39m(cost_list)\n\u001b[32m     34\u001b[39m \u001b[38;5;66;03m## Model\u001b[39;00m\n\u001b[32m     35\u001b[39m \u001b[38;5;66;03m## load_weights()\u001b[39;00m\n\u001b[32m     36\u001b[39m \u001b[38;5;66;03m## Model.__call__()\u001b[39;00m\n",
      "\u001b[36mFile \u001b[39m\u001b[32m~/QSD_project/pennylane_qsd/shc_povm.py:57\u001b[39m, in \u001b[36mPOVM_Torch_Trainer.fit\u001b[39m\u001b[34m(self, X, steps, verbose, eval_interval)\u001b[39m\n\u001b[32m     54\u001b[39m \u001b[38;5;28mself\u001b[39m.verbose = verbose\n\u001b[32m     55\u001b[39m \u001b[38;5;28mself\u001b[39m._eval_interval = eval_interval\n\u001b[32m---> \u001b[39m\u001b[32m57\u001b[39m P = \u001b[38;5;28;43mself\u001b[39;49m\u001b[43m.\u001b[49m\u001b[43mmodel\u001b[49m\u001b[43m(\u001b[49m\u001b[43mX\u001b[49m\u001b[43m)\u001b[49m \u001b[38;5;66;03m## index\u001b[39;00m\n\u001b[32m     58\u001b[39m loss = \u001b[38;5;28mself\u001b[39m.criterion(P, \u001b[38;5;28mself\u001b[39m.n_outcome, \u001b[38;5;28mself\u001b[39m.a_priori_probs)\n\u001b[32m     59\u001b[39m loss_val = \u001b[38;5;28mfloat\u001b[39m(loss.detach().cpu())\n",
      "\u001b[36mFile \u001b[39m\u001b[32m~/miniconda3/envs/py3.11cu12.4/lib/python3.11/site-packages/torch/nn/modules/module.py:1739\u001b[39m, in \u001b[36mModule._wrapped_call_impl\u001b[39m\u001b[34m(self, *args, **kwargs)\u001b[39m\n\u001b[32m   1737\u001b[39m     \u001b[38;5;28;01mreturn\u001b[39;00m \u001b[38;5;28mself\u001b[39m._compiled_call_impl(*args, **kwargs)  \u001b[38;5;66;03m# type: ignore[misc]\u001b[39;00m\n\u001b[32m   1738\u001b[39m \u001b[38;5;28;01melse\u001b[39;00m:\n\u001b[32m-> \u001b[39m\u001b[32m1739\u001b[39m     \u001b[38;5;28;01mreturn\u001b[39;00m \u001b[38;5;28;43mself\u001b[39;49m\u001b[43m.\u001b[49m\u001b[43m_call_impl\u001b[49m\u001b[43m(\u001b[49m\u001b[43m*\u001b[49m\u001b[43margs\u001b[49m\u001b[43m,\u001b[49m\u001b[43m \u001b[49m\u001b[43m*\u001b[49m\u001b[43m*\u001b[49m\u001b[43mkwargs\u001b[49m\u001b[43m)\u001b[49m\n",
      "\u001b[36mFile \u001b[39m\u001b[32m~/miniconda3/envs/py3.11cu12.4/lib/python3.11/site-packages/torch/nn/modules/module.py:1750\u001b[39m, in \u001b[36mModule._call_impl\u001b[39m\u001b[34m(self, *args, **kwargs)\u001b[39m\n\u001b[32m   1745\u001b[39m \u001b[38;5;66;03m# If we don't have any hooks, we want to skip the rest of the logic in\u001b[39;00m\n\u001b[32m   1746\u001b[39m \u001b[38;5;66;03m# this function, and just call forward.\u001b[39;00m\n\u001b[32m   1747\u001b[39m \u001b[38;5;28;01mif\u001b[39;00m \u001b[38;5;129;01mnot\u001b[39;00m (\u001b[38;5;28mself\u001b[39m._backward_hooks \u001b[38;5;129;01mor\u001b[39;00m \u001b[38;5;28mself\u001b[39m._backward_pre_hooks \u001b[38;5;129;01mor\u001b[39;00m \u001b[38;5;28mself\u001b[39m._forward_hooks \u001b[38;5;129;01mor\u001b[39;00m \u001b[38;5;28mself\u001b[39m._forward_pre_hooks\n\u001b[32m   1748\u001b[39m         \u001b[38;5;129;01mor\u001b[39;00m _global_backward_pre_hooks \u001b[38;5;129;01mor\u001b[39;00m _global_backward_hooks\n\u001b[32m   1749\u001b[39m         \u001b[38;5;129;01mor\u001b[39;00m _global_forward_hooks \u001b[38;5;129;01mor\u001b[39;00m _global_forward_pre_hooks):\n\u001b[32m-> \u001b[39m\u001b[32m1750\u001b[39m     \u001b[38;5;28;01mreturn\u001b[39;00m \u001b[43mforward_call\u001b[49m\u001b[43m(\u001b[49m\u001b[43m*\u001b[49m\u001b[43margs\u001b[49m\u001b[43m,\u001b[49m\u001b[43m \u001b[49m\u001b[43m*\u001b[49m\u001b[43m*\u001b[49m\u001b[43mkwargs\u001b[49m\u001b[43m)\u001b[49m\n\u001b[32m   1752\u001b[39m result = \u001b[38;5;28;01mNone\u001b[39;00m\n\u001b[32m   1753\u001b[39m called_always_called_hooks = \u001b[38;5;28mset\u001b[39m()\n",
      "\u001b[36mFile \u001b[39m\u001b[32m~/QSD_project/pennylane_qsd/shc_povm.py:135\u001b[39m, in \u001b[36mSingleQubitPOVM.forward\u001b[39m\u001b[34m(self, prep_batch)\u001b[39m\n\u001b[32m    134\u001b[39m \u001b[38;5;28;01mdef\u001b[39;00m\u001b[38;5;250m \u001b[39m\u001b[34mforward\u001b[39m(\u001b[38;5;28mself\u001b[39m, prep_batch):\n\u001b[32m--> \u001b[39m\u001b[32m135\u001b[39m     tapes = \u001b[43m[\u001b[49m\u001b[38;5;28;43mself\u001b[39;49m\u001b[43m.\u001b[49m\u001b[43m_make_tape\u001b[49m\u001b[43m(\u001b[49m\u001b[43mprep_fn\u001b[49m\u001b[43m)\u001b[49m\u001b[43m \u001b[49m\u001b[38;5;28;43;01mfor\u001b[39;49;00m\u001b[43m \u001b[49m\u001b[43mprep_fn\u001b[49m\u001b[43m \u001b[49m\u001b[38;5;129;43;01min\u001b[39;49;00m\u001b[43m \u001b[49m\u001b[43mprep_batch\u001b[49m\u001b[43m]\u001b[49m\n\u001b[32m    137\u001b[39m     results = qml.execute(\n\u001b[32m    138\u001b[39m         tapes, \n\u001b[32m    139\u001b[39m         \u001b[38;5;28mself\u001b[39m.dev, \n\u001b[32m    140\u001b[39m         diff_method=\u001b[33m\"\u001b[39m\u001b[33mparameter-shift\u001b[39m\u001b[33m\"\u001b[39m, \n\u001b[32m    141\u001b[39m         interface=\u001b[33m\"\u001b[39m\u001b[33mtorch\u001b[39m\u001b[33m\"\u001b[39m\n\u001b[32m    142\u001b[39m     )\n\u001b[32m    144\u001b[39m     \u001b[38;5;28;01mreturn\u001b[39;00m torch.stack(results)\n",
      "\u001b[36mFile \u001b[39m\u001b[32m~/QSD_project/pennylane_qsd/shc_povm.py:135\u001b[39m, in \u001b[36m<listcomp>\u001b[39m\u001b[34m(.0)\u001b[39m\n\u001b[32m    134\u001b[39m \u001b[38;5;28;01mdef\u001b[39;00m\u001b[38;5;250m \u001b[39m\u001b[34mforward\u001b[39m(\u001b[38;5;28mself\u001b[39m, prep_batch):\n\u001b[32m--> \u001b[39m\u001b[32m135\u001b[39m     tapes = [\u001b[38;5;28;43mself\u001b[39;49m\u001b[43m.\u001b[49m\u001b[43m_make_tape\u001b[49m\u001b[43m(\u001b[49m\u001b[43mprep_fn\u001b[49m\u001b[43m)\u001b[49m \u001b[38;5;28;01mfor\u001b[39;00m prep_fn \u001b[38;5;129;01min\u001b[39;00m prep_batch]\n\u001b[32m    137\u001b[39m     results = qml.execute(\n\u001b[32m    138\u001b[39m         tapes, \n\u001b[32m    139\u001b[39m         \u001b[38;5;28mself\u001b[39m.dev, \n\u001b[32m    140\u001b[39m         diff_method=\u001b[33m\"\u001b[39m\u001b[33mparameter-shift\u001b[39m\u001b[33m\"\u001b[39m, \n\u001b[32m    141\u001b[39m         interface=\u001b[33m\"\u001b[39m\u001b[33mtorch\u001b[39m\u001b[33m\"\u001b[39m\n\u001b[32m    142\u001b[39m     )\n\u001b[32m    144\u001b[39m     \u001b[38;5;28;01mreturn\u001b[39;00m torch.stack(results)\n",
      "\u001b[36mFile \u001b[39m\u001b[32m~/QSD_project/pennylane_qsd/shc_povm.py:130\u001b[39m, in \u001b[36mSingleQubitPOVM._make_tape\u001b[39m\u001b[34m(self, prep_fn)\u001b[39m\n\u001b[32m    128\u001b[39m     prep_fn(\u001b[38;5;28mself\u001b[39m.prep_wires)\n\u001b[32m    129\u001b[39m     \u001b[38;5;66;03m# 공통 HEAD + 확률 측정\u001b[39;00m\n\u001b[32m--> \u001b[39m\u001b[32m130\u001b[39m     \u001b[38;5;28;43mself\u001b[39;49m\u001b[43m.\u001b[49m\u001b[43mvqsd_fn\u001b[49m\u001b[43m(\u001b[49m\u001b[43m)\u001b[49m\n\u001b[32m    131\u001b[39m     qml.probs(wires=\u001b[38;5;28mself\u001b[39m.anc_wires)\n\u001b[32m    132\u001b[39m \u001b[38;5;28;01mreturn\u001b[39;00m tape\n",
      "\u001b[36mFile \u001b[39m\u001b[32m~/QSD_project/pennylane_qsd/shc_povm.py:113\u001b[39m, in \u001b[36mSingleQubitPOVM.vqsd_fn\u001b[39m\u001b[34m(self)\u001b[39m\n\u001b[32m    111\u001b[39m \u001b[38;5;66;03m# Controlled-RY gate controlled by first qubit in |0> state\u001b[39;00m\n\u001b[32m    112\u001b[39m qml.PauliX(wires=\u001b[38;5;28mself\u001b[39m.sys_wires)\n\u001b[32m--> \u001b[39m\u001b[32m113\u001b[39m \u001b[43mqml\u001b[49m\u001b[43m.\u001b[49m\u001b[43mCRY\u001b[49m\u001b[43m(\u001b[49m\u001b[38;5;28;43mself\u001b[39;49m\u001b[43m.\u001b[49m\u001b[43mtheta\u001b[49m\u001b[43m[\u001b[49m\u001b[32;43m3\u001b[39;49m\u001b[43m]\u001b[49m\u001b[43m,\u001b[49m\u001b[43m \u001b[49m\u001b[43mwires\u001b[49m\u001b[43m=\u001b[49m\u001b[38;5;28;43mself\u001b[39;49m\u001b[43m.\u001b[49m\u001b[43mpovm_wires\u001b[49m\u001b[43m)\u001b[49m\n\u001b[32m    114\u001b[39m qml.PauliX(wires=\u001b[38;5;28mself\u001b[39m.sys_wires)\n\u001b[32m    116\u001b[39m \u001b[38;5;66;03m# Controlled-RY gate controlled by first qubit in |1> state\u001b[39;00m\n",
      "\u001b[36mFile \u001b[39m\u001b[32m~/miniconda3/envs/py3.11cu12.4/lib/python3.11/site-packages/pennylane/capture/capture_meta.py:30\u001b[39m, in \u001b[36m_stop_autograph.<locals>.new_f\u001b[39m\u001b[34m(*args, **kwargs)\u001b[39m\n\u001b[32m     29\u001b[39m \u001b[38;5;28;01mdef\u001b[39;00m\u001b[38;5;250m \u001b[39m\u001b[34mnew_f\u001b[39m(*args, **kwargs):\n\u001b[32m---> \u001b[39m\u001b[32m30\u001b[39m     \u001b[38;5;28;01mreturn\u001b[39;00m \u001b[43mf\u001b[49m\u001b[43m(\u001b[49m\u001b[43m*\u001b[49m\u001b[43margs\u001b[49m\u001b[43m,\u001b[49m\u001b[43m \u001b[49m\u001b[43m*\u001b[49m\u001b[43m*\u001b[49m\u001b[43mkwargs\u001b[49m\u001b[43m)\u001b[49m\n",
      "\u001b[36mFile \u001b[39m\u001b[32m~/miniconda3/envs/py3.11cu12.4/lib/python3.11/site-packages/pennylane/capture/capture_meta.py:97\u001b[39m, in \u001b[36mCaptureMeta.__call__\u001b[39m\u001b[34m(cls, *args, **kwargs)\u001b[39m\n\u001b[32m     93\u001b[39m \u001b[38;5;28;01mif\u001b[39;00m enabled():\n\u001b[32m     94\u001b[39m     \u001b[38;5;66;03m# when tracing is enabled, we want to\u001b[39;00m\n\u001b[32m     95\u001b[39m     \u001b[38;5;66;03m# use bind to construct the class if we want class construction to add it to the jaxpr\u001b[39;00m\n\u001b[32m     96\u001b[39m     \u001b[38;5;28;01mreturn\u001b[39;00m \u001b[38;5;28mcls\u001b[39m._primitive_bind_call(*args, **kwargs)\n\u001b[32m---> \u001b[39m\u001b[32m97\u001b[39m \u001b[38;5;28;01mreturn\u001b[39;00m \u001b[38;5;28;43mtype\u001b[39;49m\u001b[43m.\u001b[49m\u001b[34;43m__call__\u001b[39;49m\u001b[43m(\u001b[49m\u001b[38;5;28;43mcls\u001b[39;49m\u001b[43m,\u001b[49m\u001b[43m \u001b[49m\u001b[43m*\u001b[49m\u001b[43margs\u001b[49m\u001b[43m,\u001b[49m\u001b[43m \u001b[49m\u001b[43m*\u001b[49m\u001b[43m*\u001b[49m\u001b[43mkwargs\u001b[49m\u001b[43m)\u001b[49m\n",
      "\u001b[36mFile \u001b[39m\u001b[32m~/miniconda3/envs/py3.11cu12.4/lib/python3.11/site-packages/pennylane/ops/op_math/controlled_ops.py:1913\u001b[39m, in \u001b[36mCRY.__init__\u001b[39m\u001b[34m(self, phi, wires, id)\u001b[39m\n\u001b[32m   1910\u001b[39m \u001b[38;5;28;01mdef\u001b[39;00m\u001b[38;5;250m \u001b[39m\u001b[34m__init__\u001b[39m(\u001b[38;5;28mself\u001b[39m, phi, wires, \u001b[38;5;28mid\u001b[39m=\u001b[38;5;28;01mNone\u001b[39;00m):\n\u001b[32m   1911\u001b[39m     \u001b[38;5;66;03m# We use type.__call__ instead of calling the class directly so that we don't bind the\u001b[39;00m\n\u001b[32m   1912\u001b[39m     \u001b[38;5;66;03m# operator primitive when new program capture is enabled\u001b[39;00m\n\u001b[32m-> \u001b[39m\u001b[32m1913\u001b[39m     base = \u001b[38;5;28;43mtype\u001b[39;49m\u001b[43m.\u001b[49m\u001b[34;43m__call__\u001b[39;49m\u001b[43m(\u001b[49m\u001b[43mqml\u001b[49m\u001b[43m.\u001b[49m\u001b[43mRY\u001b[49m\u001b[43m,\u001b[49m\u001b[43m \u001b[49m\u001b[43mphi\u001b[49m\u001b[43m,\u001b[49m\u001b[43m \u001b[49m\u001b[43mwires\u001b[49m\u001b[43m=\u001b[49m\u001b[43mwires\u001b[49m\u001b[43m[\u001b[49m\u001b[32;43m1\u001b[39;49m\u001b[43m:\u001b[49m\u001b[43m]\u001b[49m\u001b[43m)\u001b[49m\n\u001b[32m   1914\u001b[39m     \u001b[38;5;28msuper\u001b[39m().\u001b[34m__init__\u001b[39m(base, control_wires=wires[:\u001b[32m1\u001b[39m], \u001b[38;5;28mid\u001b[39m=\u001b[38;5;28mid\u001b[39m)\n",
      "\u001b[36mFile \u001b[39m\u001b[32m~/miniconda3/envs/py3.11cu12.4/lib/python3.11/site-packages/pennylane/ops/qubit/parametric_ops_single_qubit.py:264\u001b[39m, in \u001b[36mRY.__init__\u001b[39m\u001b[34m(self, phi, wires, id)\u001b[39m\n\u001b[32m    263\u001b[39m \u001b[38;5;28;01mdef\u001b[39;00m\u001b[38;5;250m \u001b[39m\u001b[34m__init__\u001b[39m(\u001b[38;5;28mself\u001b[39m, phi: TensorLike, wires: WiresLike, \u001b[38;5;28mid\u001b[39m: Optional[\u001b[38;5;28mstr\u001b[39m] = \u001b[38;5;28;01mNone\u001b[39;00m):\n\u001b[32m--> \u001b[39m\u001b[32m264\u001b[39m     \u001b[38;5;28;43msuper\u001b[39;49m\u001b[43m(\u001b[49m\u001b[43m)\u001b[49m\u001b[43m.\u001b[49m\u001b[34;43m__init__\u001b[39;49m\u001b[43m(\u001b[49m\u001b[43mphi\u001b[49m\u001b[43m,\u001b[49m\u001b[43m \u001b[49m\u001b[43mwires\u001b[49m\u001b[43m=\u001b[49m\u001b[43mwires\u001b[49m\u001b[43m,\u001b[49m\u001b[43m \u001b[49m\u001b[38;5;28;43mid\u001b[39;49m\u001b[43m=\u001b[49m\u001b[38;5;28;43mid\u001b[39;49m\u001b[43m)\u001b[49m\n",
      "\u001b[36mFile \u001b[39m\u001b[32m~/miniconda3/envs/py3.11cu12.4/lib/python3.11/site-packages/pennylane/operation.py:2021\u001b[39m, in \u001b[36mOperation.__init__\u001b[39m\u001b[34m(self, wires, id, *params)\u001b[39m\n\u001b[32m   2015\u001b[39m \u001b[38;5;28;01mdef\u001b[39;00m\u001b[38;5;250m \u001b[39m\u001b[34m__init__\u001b[39m(\n\u001b[32m   2016\u001b[39m     \u001b[38;5;28mself\u001b[39m,\n\u001b[32m   2017\u001b[39m     *params: TensorLike,\n\u001b[32m   2018\u001b[39m     wires: Optional[WiresLike] = \u001b[38;5;28;01mNone\u001b[39;00m,\n\u001b[32m   2019\u001b[39m     \u001b[38;5;28mid\u001b[39m: Optional[\u001b[38;5;28mstr\u001b[39m] = \u001b[38;5;28;01mNone\u001b[39;00m,\n\u001b[32m   2020\u001b[39m ):\n\u001b[32m-> \u001b[39m\u001b[32m2021\u001b[39m     \u001b[38;5;28;43msuper\u001b[39;49m\u001b[43m(\u001b[49m\u001b[43m)\u001b[49m\u001b[43m.\u001b[49m\u001b[34;43m__init__\u001b[39;49m\u001b[43m(\u001b[49m\u001b[43m*\u001b[49m\u001b[43mparams\u001b[49m\u001b[43m,\u001b[49m\u001b[43m \u001b[49m\u001b[43mwires\u001b[49m\u001b[43m=\u001b[49m\u001b[43mwires\u001b[49m\u001b[43m,\u001b[49m\u001b[43m \u001b[49m\u001b[38;5;28;43mid\u001b[39;49m\u001b[43m=\u001b[49m\u001b[38;5;28;43mid\u001b[39;49m\u001b[43m)\u001b[49m\n\u001b[32m   2023\u001b[39m     \u001b[38;5;66;03m# check the grad_recipe validity\u001b[39;00m\n\u001b[32m   2024\u001b[39m     \u001b[38;5;28;01mif\u001b[39;00m \u001b[38;5;28mself\u001b[39m.grad_recipe \u001b[38;5;129;01mis\u001b[39;00m \u001b[38;5;28;01mNone\u001b[39;00m:\n\u001b[32m   2025\u001b[39m         \u001b[38;5;66;03m# Make sure grad_recipe is an iterable of correct length instead of None\u001b[39;00m\n",
      "\u001b[36mFile \u001b[39m\u001b[32m~/miniconda3/envs/py3.11cu12.4/lib/python3.11/site-packages/pennylane/operation.py:1256\u001b[39m, in \u001b[36mOperator.__init__\u001b[39m\u001b[34m(self, wires, id, *params)\u001b[39m\n\u001b[32m   1252\u001b[39m \u001b[38;5;66;03m# check that the number of wires given corresponds to required number\u001b[39;00m\n\u001b[32m   1253\u001b[39m \u001b[38;5;28;01mif\u001b[39;00m (\u001b[38;5;28mself\u001b[39m.num_wires \u001b[38;5;129;01mis\u001b[39;00m \u001b[38;5;129;01mnot\u001b[39;00m \u001b[38;5;28;01mNone\u001b[39;00m \u001b[38;5;129;01mand\u001b[39;00m \u001b[38;5;129;01mnot\u001b[39;00m \u001b[38;5;28misinstance\u001b[39m(\u001b[38;5;28mself\u001b[39m.num_wires, _WiresEnum)) \u001b[38;5;129;01mand\u001b[39;00m \u001b[38;5;28mlen\u001b[39m(\n\u001b[32m   1254\u001b[39m     \u001b[38;5;28mself\u001b[39m._wires\n\u001b[32m   1255\u001b[39m ) != \u001b[38;5;28mself\u001b[39m.num_wires:\n\u001b[32m-> \u001b[39m\u001b[32m1256\u001b[39m     \u001b[38;5;28;01mraise\u001b[39;00m \u001b[38;5;167;01mValueError\u001b[39;00m(\n\u001b[32m   1257\u001b[39m         \u001b[33mf\u001b[39m\u001b[33m\"\u001b[39m\u001b[38;5;132;01m{\u001b[39;00m\u001b[38;5;28mself\u001b[39m.name\u001b[38;5;132;01m}\u001b[39;00m\u001b[33m: wrong number of wires. \u001b[39m\u001b[33m\"\u001b[39m\n\u001b[32m   1258\u001b[39m         \u001b[33mf\u001b[39m\u001b[33m\"\u001b[39m\u001b[38;5;132;01m{\u001b[39;00m\u001b[38;5;28mlen\u001b[39m(\u001b[38;5;28mself\u001b[39m._wires)\u001b[38;5;132;01m}\u001b[39;00m\u001b[33m wires given, \u001b[39m\u001b[38;5;132;01m{\u001b[39;00m\u001b[38;5;28mself\u001b[39m.num_wires\u001b[38;5;132;01m}\u001b[39;00m\u001b[33m expected.\u001b[39m\u001b[33m\"\u001b[39m\n\u001b[32m   1259\u001b[39m     )\n\u001b[32m   1261\u001b[39m \u001b[38;5;28mself\u001b[39m._batch_size: Optional[\u001b[38;5;28mint\u001b[39m] = _UNSET_BATCH_SIZE\n\u001b[32m   1262\u001b[39m \u001b[38;5;28mself\u001b[39m._ndim_params: \u001b[38;5;28mtuple\u001b[39m[\u001b[38;5;28mint\u001b[39m] = _UNSET_BATCH_SIZE\n",
      "\u001b[31mValueError\u001b[39m: RY: wrong number of wires. 2 wires given, 1 expected."
     ]
    }
   ],
   "source": [
    "from shc_povm import *\n",
    "\n",
    "init_states = [rho1, rho2, rho3]\n",
    "n_prep = 1\n",
    "n_sys = 1\n",
    "n_outcome = 3\n",
    "wires = [0, 1, 2]\n",
    "\n",
    "dev = qml.device('lightning.gpu', wires=len(wires))\n",
    "# 일단 고정하는게 VQSD assumption -> TODO: Test\n",
    "a_priori_probs = [1/n_outcome] * n_outcome\n",
    "\n",
    "## Config\n",
    "config = {\n",
    "    \"device\": \"cpu\",\n",
    "    # \"device\": \"cuda\" if torch.cuda.is_available() else \"cpu\",\n",
    "    \"dtype\": torch.float32,\n",
    "    \"seed\": 1,\n",
    "}\n",
    "## DataLoader\n",
    "\n",
    "## Model\n",
    "torch.manual_seed(config[\"seed\"])\n",
    "model = SingleQubitPOVM(n_prep, n_sys, n_outcome, config).to(device=config[\"device\"], dtype=config[\"dtype\"])\n",
    "## criterion\n",
    "criterion = tp_maximization_cost\n",
    "## optimizer\n",
    "opt = torch.optim.Adam(model.parameters(), lr=0.02)\n",
    "## Trainer\n",
    "povm_trainer = POVM_Torch_Trainer(n=n_outcome, a_priori_probs=a_priori_probs, optimizer=opt, model=model, criterion=criterion)\n",
    "## Trainer.fit()\n",
    "cost_list = povm_trainer.fit(X=init_states)\n",
    "print(cost_list)\n",
    "## Model\n",
    "## load_weights()\n",
    "## Model.__call__()\n"
   ]
  },
  {
   "cell_type": "markdown",
   "id": "5b02847d",
   "metadata": {},
   "source": [
    "예시: **l-ary POVM**\n",
    "\n",
    "$$\\{\\rho_i\\}_{i=0}^{l-1}$$"
   ]
  },
  {
   "cell_type": "code",
   "execution_count": 21,
   "id": "a85ba0d4",
   "metadata": {},
   "outputs": [],
   "source": [
    "import numpy as np\n",
    "import pennylane as qml\n",
    "\n",
    "def sqrt_psd(M, clip=0.0):\n",
    "    # 수치 안전용 hermitize + 음수 고정\n",
    "    Mh = 0.5*(M + M.conj().T)\n",
    "    vals, vecs = np.linalg.eigh(Mh)\n",
    "    vals = np.clip(vals.real, clip, None)\n",
    "    return vecs @ np.diag(np.sqrt(vals)) @ vecs.conj().T\n",
    "\n",
    "def complete_unitary_from_isometry(V, tol=1e-12):\n",
    "    \"\"\"V: (N x d),  V^† V = I_d 인 등거리 사상을 첫 d열로 유지한 채\n",
    "    유니터리 U (N x N)로 완성.\"\"\"\n",
    "    N, d = V.shape\n",
    "    cols = [V[:,j].copy() for j in range(d)]  # 첫 d열 그대로 유지\n",
    "    def orth(v):\n",
    "        for c in cols:\n",
    "            v = v - c * (c.conj().T @ v)\n",
    "        n = np.linalg.norm(v)\n",
    "        return (v/n) if n > tol else None\n",
    "    # 표준기저에서 보충\n",
    "    for k in range(N):\n",
    "        e = np.zeros(N, dtype=complex); e[k] = 1.0\n",
    "        v = orth(e)\n",
    "        if v is not None:\n",
    "            cols.append(v)\n",
    "        if len(cols) == N: break\n",
    "    U = np.column_stack(cols)\n",
    "    return U\n",
    "\n",
    "def naimark_U_from_Es(E_list):\n",
    "    \"\"\"E_list: [E0, E1, ..., E_{m-1}] (각 dxd, PSD), ancilla는 qubit들로 임베드.\"\"\"\n",
    "    d = E_list[0].shape[0]\n",
    "    m = len(E_list)\n",
    "    # 큐비트 보조공간 크기\n",
    "    k = int(np.ceil(np.log2(m)))\n",
    "    M = 2**k\n",
    "    Ks = [sqrt_psd(E) for E in E_list]\n",
    "    # 남는 결과 채널(사용 안함) 0으로 패딩\n",
    "    Ks += [np.zeros((d,d), dtype=complex) for _ in range(M - m)]\n",
    "    # 등거리 사상 V 만들기\n",
    "    V = np.vstack(Ks)  # (Md) x d\n",
    "    # 수치 확인(선택)\n",
    "    # assert np.allclose(V.conj().T @ V, np.eye(d), atol=1e-9)\n",
    "    # 유니터리 완성\n",
    "    U = complete_unitary_from_isometry(V)\n",
    "    return U, k\n",
    "\n",
    "# --- PennyLane 사용 예시 ---\n",
    "# 시스템 n_sys_qubits, 보조 anc_k = k\n",
    "def povm_probs_via_naimark(psi, E_list, sys_wires, anc_wires, dev):\n",
    "    @qml.qnode(dev)\n",
    "    def circuit():\n",
    "        qml.StatePrep(psi, wires=sys_wires)\n",
    "        U, k = naimark_U_from_Es(E_list)\n",
    "        assert k == len(anc_wires), \"anc_wires 길이가 k와 일치해야 합니다.\"\n",
    "        qml.QubitUnitary(U, wires=(sys_wires + anc_wires))\n",
    "        return qml.probs(wires=anc_wires)  # 길이 2^k 확률, 앞 m개가 E_i 확률\n",
    "    return circuit()\n"
   ]
  },
  {
   "cell_type": "code",
   "execution_count": 22,
   "id": "9335b7c7",
   "metadata": {},
   "outputs": [
    {
     "name": "stdout",
     "output_type": "stream",
     "text": [
      "0.4999999999999999 0.4999999999999999\n",
      "0.4999999999999999 0.4999999999999999\n",
      "0.49999999999999994 0.49999999999999994\n",
      "0.49999999999999983 0.49999999999999983\n",
      "0.49999999999999994 0.49999999999999994\n",
      "0.4999999999999999 0.4999999999999999\n",
      "0.49999999999999994 0.49999999999999994\n",
      "0.4999999999999999 0.4999999999999999\n",
      "0.4999999999999999 0.4999999999999999\n",
      "0.4999999999999999 0.4999999999999999\n",
      "0.4999999999999999 0.4999999999999999\n"
     ]
    }
   ],
   "source": [
    "n = 2\n",
    "dev = qml.device(\"lightning.qubit\", wires=n, shots=None)\n",
    "\n",
    "# 예: 1-큐빗 trine POVM을 0번 와이어에 적용 (E_k = (1/3)I + (1/3) n_k · σ)\n",
    "ops_tpl = [qml.Identity(0), qml.PauliX(0), qml.PauliY(0), qml.PauliZ(0)]\n",
    "nvecs = [\n",
    "    (np.cos(0),           np.sin(0),           0.0),\n",
    "    (np.cos(2*np.pi/3),   np.sin(2*np.pi/3),   0.0),\n",
    "    (np.cos(4*np.pi/3),   np.sin(4*np.pi/3),   0.0),\n",
    "]\n",
    "Hks = [\n",
    "    qml.Hamiltonian([1/3, (1/3)*nx, (1/3)*ny, (1/3)*nz], ops_tpl)\n",
    "    for (nx, ny, nz) in nvecs\n",
    "]\n",
    "\n",
    "prjs = [0,1]\n",
    "\n",
    "def prepare(theta):\n",
    "    # 예시: 0번 큐빗에만 상태 준비\n",
    "    qml.RY(theta, wires=0)\n",
    "\n",
    "@qml.qnode(dev)\n",
    "def povm_probs(theta):\n",
    "    prepare(theta)\n",
    "    qml.Hadamard(wires=1)\n",
    "    return [qml.expval(qml.Projector([P], wires=[1])) for P in prjs]  # [p0, p1, p2]\n",
    "\n",
    "for theta in np.linspace(0, 1, 11):\n",
    "    p0, p1 = povm_probs(theta)\n",
    "    print(p0, p1)\n",
    "# 필요시 p2 = 1 - p0 - p1 로 줄일 수 있음"
   ]
  },
  {
   "cell_type": "code",
   "execution_count": 23,
   "id": "8eb489e2",
   "metadata": {},
   "outputs": [
    {
     "name": "stdout",
     "output_type": "stream",
     "text": [
      "0.4999999999999999\n"
     ]
    }
   ],
   "source": [
    "print(p0)"
   ]
  },
  {
   "cell_type": "code",
   "execution_count": 24,
   "id": "568395fc",
   "metadata": {},
   "outputs": [
    {
     "ename": "AttributeError",
     "evalue": "module 'pennylane' has no attribute 'POVM'",
     "output_type": "error",
     "traceback": [
      "\u001b[31m---------------------------------------------------------------------------\u001b[39m",
      "\u001b[31mAttributeError\u001b[39m                            Traceback (most recent call last)",
      "\u001b[36mCell\u001b[39m\u001b[36m \u001b[39m\u001b[32mIn[24]\u001b[39m\u001b[32m, line 16\u001b[39m\n\u001b[32m     13\u001b[39m     qml.RX(theta, wires=\u001b[32m0\u001b[39m)\n\u001b[32m     14\u001b[39m     \u001b[38;5;28;01mreturn\u001b[39;00m qml.sample(qml.POVM(POVM, wires=\u001b[32m0\u001b[39m))\n\u001b[32m---> \u001b[39m\u001b[32m16\u001b[39m \u001b[38;5;28mprint\u001b[39m(\u001b[43mpovm_circuit\u001b[49m\u001b[43m(\u001b[49m\u001b[32;43m0.3\u001b[39;49m\u001b[43m)\u001b[49m)\n",
      "\u001b[36mFile \u001b[39m\u001b[32m~/miniconda3/envs/py3.11cu12.4/lib/python3.11/site-packages/pennylane/workflow/qnode.py:922\u001b[39m, in \u001b[36mQNode.__call__\u001b[39m\u001b[34m(self, *args, **kwargs)\u001b[39m\n\u001b[32m    919\u001b[39m     \u001b[38;5;28;01mfrom\u001b[39;00m\u001b[38;5;250m \u001b[39m\u001b[34;01m.\u001b[39;00m\u001b[34;01m_capture_qnode\u001b[39;00m\u001b[38;5;250m \u001b[39m\u001b[38;5;28;01mimport\u001b[39;00m capture_qnode  \u001b[38;5;66;03m# pylint: disable=import-outside-toplevel\u001b[39;00m\n\u001b[32m    921\u001b[39m     \u001b[38;5;28;01mreturn\u001b[39;00m capture_qnode(\u001b[38;5;28mself\u001b[39m, *args, **kwargs)\n\u001b[32m--> \u001b[39m\u001b[32m922\u001b[39m \u001b[38;5;28;01mreturn\u001b[39;00m \u001b[38;5;28;43mself\u001b[39;49m\u001b[43m.\u001b[49m\u001b[43m_impl_call\u001b[49m\u001b[43m(\u001b[49m\u001b[43m*\u001b[49m\u001b[43margs\u001b[49m\u001b[43m,\u001b[49m\u001b[43m \u001b[49m\u001b[43m*\u001b[49m\u001b[43m*\u001b[49m\u001b[43mkwargs\u001b[49m\u001b[43m)\u001b[49m\n",
      "\u001b[36mFile \u001b[39m\u001b[32m~/miniconda3/envs/py3.11cu12.4/lib/python3.11/site-packages/pennylane/workflow/qnode.py:890\u001b[39m, in \u001b[36mQNode._impl_call\u001b[39m\u001b[34m(self, *args, **kwargs)\u001b[39m\n\u001b[32m    887\u001b[39m \u001b[38;5;28;01mdef\u001b[39;00m\u001b[38;5;250m \u001b[39m\u001b[34m_impl_call\u001b[39m(\u001b[38;5;28mself\u001b[39m, *args, **kwargs) -> Result:\n\u001b[32m    888\u001b[39m \n\u001b[32m    889\u001b[39m     \u001b[38;5;66;03m# construct the tape\u001b[39;00m\n\u001b[32m--> \u001b[39m\u001b[32m890\u001b[39m     tape = \u001b[38;5;28;43mself\u001b[39;49m\u001b[43m.\u001b[49m\u001b[43mconstruct\u001b[49m\u001b[43m(\u001b[49m\u001b[43margs\u001b[49m\u001b[43m,\u001b[49m\u001b[43m \u001b[49m\u001b[43mkwargs\u001b[49m\u001b[43m)\u001b[49m\n\u001b[32m    892\u001b[39m     \u001b[38;5;66;03m# Calculate the classical jacobians if necessary\u001b[39;00m\n\u001b[32m    893\u001b[39m     \u001b[38;5;28mself\u001b[39m._transform_program.set_classical_component(\u001b[38;5;28mself\u001b[39m, args, kwargs)\n",
      "\u001b[36mFile \u001b[39m\u001b[32m~/miniconda3/envs/py3.11cu12.4/lib/python3.11/site-packages/pennylane/logging/decorators.py:61\u001b[39m, in \u001b[36mlog_string_debug_func.<locals>.wrapper_entry\u001b[39m\u001b[34m(*args, **kwargs)\u001b[39m\n\u001b[32m     54\u001b[39m     s_caller = \u001b[33m\"\u001b[39m\u001b[33m::L\u001b[39m\u001b[33m\"\u001b[39m.join(\n\u001b[32m     55\u001b[39m         [\u001b[38;5;28mstr\u001b[39m(i) \u001b[38;5;28;01mfor\u001b[39;00m i \u001b[38;5;129;01min\u001b[39;00m inspect.getouterframes(inspect.currentframe(), \u001b[32m2\u001b[39m)[\u001b[32m1\u001b[39m][\u001b[32m1\u001b[39m:\u001b[32m3\u001b[39m]]\n\u001b[32m     56\u001b[39m     )\n\u001b[32m     57\u001b[39m     lgr.debug(\n\u001b[32m     58\u001b[39m         \u001b[33mf\u001b[39m\u001b[33m\"\u001b[39m\u001b[33mCalling \u001b[39m\u001b[38;5;132;01m{\u001b[39;00mf_string\u001b[38;5;132;01m}\u001b[39;00m\u001b[33m from \u001b[39m\u001b[38;5;132;01m{\u001b[39;00ms_caller\u001b[38;5;132;01m}\u001b[39;00m\u001b[33m\"\u001b[39m,\n\u001b[32m     59\u001b[39m         **_debug_log_kwargs,\n\u001b[32m     60\u001b[39m     )\n\u001b[32m---> \u001b[39m\u001b[32m61\u001b[39m \u001b[38;5;28;01mreturn\u001b[39;00m \u001b[43mfunc\u001b[49m\u001b[43m(\u001b[49m\u001b[43m*\u001b[49m\u001b[43margs\u001b[49m\u001b[43m,\u001b[49m\u001b[43m \u001b[49m\u001b[43m*\u001b[49m\u001b[43m*\u001b[49m\u001b[43mkwargs\u001b[49m\u001b[43m)\u001b[49m\n",
      "\u001b[36mFile \u001b[39m\u001b[32m~/miniconda3/envs/py3.11cu12.4/lib/python3.11/site-packages/pennylane/workflow/qnode.py:876\u001b[39m, in \u001b[36mQNode.construct\u001b[39m\u001b[34m(self, args, kwargs)\u001b[39m\n\u001b[32m    874\u001b[39m \u001b[38;5;28;01mwith\u001b[39;00m pldb_device_manager(\u001b[38;5;28mself\u001b[39m.device):\n\u001b[32m    875\u001b[39m     \u001b[38;5;28;01mwith\u001b[39;00m AnnotatedQueue() \u001b[38;5;28;01mas\u001b[39;00m q:\n\u001b[32m--> \u001b[39m\u001b[32m876\u001b[39m         \u001b[38;5;28mself\u001b[39m._qfunc_output = \u001b[38;5;28;43mself\u001b[39;49m\u001b[43m.\u001b[49m\u001b[43mfunc\u001b[49m\u001b[43m(\u001b[49m\u001b[43m*\u001b[49m\u001b[43margs\u001b[49m\u001b[43m,\u001b[49m\u001b[43m \u001b[49m\u001b[43m*\u001b[49m\u001b[43m*\u001b[49m\u001b[43mkwargs\u001b[49m\u001b[43m)\u001b[49m\n\u001b[32m    878\u001b[39m tape = QuantumScript.from_queue(q, shots)\n\u001b[32m    880\u001b[39m params = tape.get_parameters(trainable_only=\u001b[38;5;28;01mFalse\u001b[39;00m)\n",
      "\u001b[36mCell\u001b[39m\u001b[36m \u001b[39m\u001b[32mIn[24]\u001b[39m\u001b[32m, line 14\u001b[39m, in \u001b[36mpovm_circuit\u001b[39m\u001b[34m(theta)\u001b[39m\n\u001b[32m     11\u001b[39m \u001b[38;5;129m@qml\u001b[39m.qnode(dev)\n\u001b[32m     12\u001b[39m \u001b[38;5;28;01mdef\u001b[39;00m\u001b[38;5;250m \u001b[39m\u001b[34mpovm_circuit\u001b[39m(theta):\n\u001b[32m     13\u001b[39m     qml.RX(theta, wires=\u001b[32m0\u001b[39m)\n\u001b[32m---> \u001b[39m\u001b[32m14\u001b[39m     \u001b[38;5;28;01mreturn\u001b[39;00m qml.sample(\u001b[43mqml\u001b[49m\u001b[43m.\u001b[49m\u001b[43mPOVM\u001b[49m(POVM, wires=\u001b[32m0\u001b[39m))\n",
      "\u001b[36mFile \u001b[39m\u001b[32m~/miniconda3/envs/py3.11cu12.4/lib/python3.11/site-packages/pennylane/__init__.py:226\u001b[39m, in \u001b[36m__getattr__\u001b[39m\u001b[34m(name)\u001b[39m\n\u001b[32m    223\u001b[39m \u001b[38;5;28;01mif\u001b[39;00m name == \u001b[33m\"\u001b[39m\u001b[33mplugin_devices\u001b[39m\u001b[33m\"\u001b[39m:\n\u001b[32m    224\u001b[39m     \u001b[38;5;28;01mreturn\u001b[39;00m pennylane.devices.device_constructor.plugin_devices\n\u001b[32m--> \u001b[39m\u001b[32m226\u001b[39m \u001b[38;5;28;01mraise\u001b[39;00m \u001b[38;5;167;01mAttributeError\u001b[39;00m(\u001b[33mf\u001b[39m\u001b[33m\"\u001b[39m\u001b[33mmodule \u001b[39m\u001b[33m'\u001b[39m\u001b[33mpennylane\u001b[39m\u001b[33m'\u001b[39m\u001b[33m has no attribute \u001b[39m\u001b[33m'\u001b[39m\u001b[38;5;132;01m{\u001b[39;00mname\u001b[38;5;132;01m}\u001b[39;00m\u001b[33m'\u001b[39m\u001b[33m\"\u001b[39m)\n",
      "\u001b[31mAttributeError\u001b[39m: module 'pennylane' has no attribute 'POVM'"
     ]
    }
   ],
   "source": [
    "# 디바이스 준비\n",
    "dev = qml.device(\"default.qubit\", wires=1, shots=1000)\n",
    "\n",
    "\n",
    "\n",
    "# POVM 정의\n",
    "E0 = 0.5 * qml.Projector([0], wires=0) + 0.5 * qml.Projector([1], wires=0)\n",
    "E1 = qml.Identity(0) - E0\n",
    "POVM = [E0, E1]\n",
    "\n",
    "@qml.qnode(dev)\n",
    "def povm_circuit(theta):\n",
    "    qml.RX(theta, wires=0)\n",
    "    return qml.sample(qml.POVM(POVM, wires=0))\n",
    "\n",
    "print(povm_circuit(0.3))"
   ]
  },
  {
   "cell_type": "code",
   "execution_count": null,
   "id": "69a6edcd",
   "metadata": {},
   "outputs": [],
   "source": []
  }
 ],
 "metadata": {
  "kernelspec": {
   "display_name": "py3.11cu12.4",
   "language": "python",
   "name": "python3"
  },
  "language_info": {
   "codemirror_mode": {
    "name": "ipython",
    "version": 3
   },
   "file_extension": ".py",
   "mimetype": "text/x-python",
   "name": "python",
   "nbconvert_exporter": "python",
   "pygments_lexer": "ipython3",
   "version": "3.11.13"
  }
 },
 "nbformat": 4,
 "nbformat_minor": 5
}
